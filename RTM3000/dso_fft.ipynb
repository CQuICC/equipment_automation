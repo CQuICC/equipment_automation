{
 "cells": [
  {
   "cell_type": "code",
   "execution_count": null,
   "metadata": {},
   "outputs": [],
   "source": [
    "from RsInstrument.RsInstrument import RsInstrument\n",
    "import matplotlib.pyplot as plt\n",
    "import time \n",
    "import numpy as np\n",
    "from datetime import datetime"
   ]
  },
  {
   "cell_type": "code",
   "execution_count": null,
   "metadata": {},
   "outputs": [],
   "source": [
    "rth = RsInstrument('TCPIP::10.21.1.58::INSTR', True, False)\t\t#localhost ip address\n",
    "#rth = RsInstrument('TCPIP::169.254.253.36::INSTR', True, False)\n",
    "rth.visa_timeout = 10000  # Timeout for VISA Read Operations\n",
    "rth.opc_timeout = 10000  # Timeout for opc-synchronised operations\n",
    "rth.instrument_status_checking = True  # Error check after each command"
   ]
  },
  {
   "cell_type": "code",
   "execution_count": null,
   "metadata": {},
   "outputs": [],
   "source": [
    "print(f'Device IDN: {rth.idn_string}')\n",
    "print(f'Device Options: {\",\".join(rth.instrument_options)}\\n')"
   ]
  },
  {
   "cell_type": "code",
   "execution_count": null,
   "metadata": {},
   "outputs": [],
   "source": [
    "rth.write(\"*RST\")                               # Reset the device\n",
    "rth.write_str(\"SPEC:STAT ON\")                   #\n",
    "rth.write_str(\"SPEC:SOUR CH1\")\n",
    "rth.write_str(\"SPEC:FREQ:WIND:TYPE FLAT\")\n",
    "rth.write_str(\"SPEC:FREQ:STAR 9E+6\")            # Start frequency\n",
    "rth.write_str(\"SPEC:FREQ:STOP 1.2E+7\")          # Stop frequency\n",
    "rth.write_str(\"SPEC:FREQ:MAGN:SCAL LIN\")        # Scale\n",
    "# rth.write_str(\"SPEC:FREQ:CENT 1E+06\")         # Center freq\n",
    "# time.sleep(1)"
   ]
  },
  {
   "cell_type": "code",
   "execution_count": null,
   "metadata": {},
   "outputs": [],
   "source": [
    "# Cursor settings.\n",
    "time.sleep(1)\n",
    "rth.write(\"CURS:STAT ON\")\n",
    "time.sleep(1)\n",
    "rth.write_str(\"CURS:SOUR SPEC\")\n",
    "time.sleep(1)\n",
    "rth.write_str(\"CURS:FUNC VERT\")             # Enabled vertical cursor\n",
    "time.sleep(1)\n",
    "rth.write_str(\"CURS:TRAC ON\")\n",
    "time.sleep(1)\n",
    "rth.write_str(\"CURS:X1P 10E+6\")"
   ]
  },
  {
   "cell_type": "code",
   "execution_count": null,
   "metadata": {},
   "outputs": [],
   "source": [
    "value=rth.query(\"CURS:Y1P?\")               # Query for current Y1 value\n",
    "print(value)"
   ]
  }
 ],
 "metadata": {
  "kernelspec": {
   "display_name": "Python 3",
   "language": "python",
   "name": "python3"
  },
  "language_info": {
   "codemirror_mode": {
    "name": "ipython",
    "version": 3
   },
   "file_extension": ".py",
   "mimetype": "text/x-python",
   "name": "python",
   "nbconvert_exporter": "python",
   "pygments_lexer": "ipython3",
   "version": "3.12.2"
  }
 },
 "nbformat": 4,
 "nbformat_minor": 2
}
